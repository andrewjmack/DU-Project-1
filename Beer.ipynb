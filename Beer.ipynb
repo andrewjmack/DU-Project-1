{
 "cells": [
  {
   "cell_type": "code",
   "execution_count": 1,
   "id": "fb51750d-350b-4d99-9ca9-be8a90bdc526",
   "metadata": {},
   "outputs": [],
   "source": [
    "# Import Dependencies\n",
    "import pandas as pd\n",
    "from pathlib import Path"
   ]
  },
  {
   "cell_type": "code",
   "execution_count": 28,
   "id": "e18b01fd-c3b3-4a7e-bad6-65ab288df8e5",
   "metadata": {},
   "outputs": [
    {
     "name": "stdout",
     "output_type": "stream",
     "text": [
      "Total number of rows: 3197\n",
      "------------------------\n",
      "Name                  object\n",
      "Style                 object\n",
      "Brewery               object\n",
      "Beer Name (Full)      object\n",
      "Description           object\n",
      "ABV                  float64\n",
      "Min IBU                int64\n",
      "Max IBU                int64\n",
      "Astringency            int64\n",
      "Body                   int64\n",
      "Alcohol                int64\n",
      "Bitter                 int64\n",
      "Sweet                  int64\n",
      "Sour                   int64\n",
      "Salty                  int64\n",
      "Fruits                 int64\n",
      "Hoppy                  int64\n",
      "Spices                 int64\n",
      "Malty                  int64\n",
      "review_aroma         float64\n",
      "review_appearance    float64\n",
      "review_palate        float64\n",
      "review_taste         float64\n",
      "review_overall       float64\n",
      "number_of_reviews      int64\n",
      "dtype: object\n",
      "------------------------\n",
      "Number of styles: 111\n",
      "------------------------\n",
      "['Altbier' 'Barleywine - American' 'Barleywine - English'\n",
      " 'Bitter - English Extra Special / Strong Bitter (ESB)' 'Bitter - English'\n",
      " 'Bière de Champagne / Bière Brut' 'Blonde Ale - American'\n",
      " 'Blonde Ale - Belgian' 'Bock - Doppelbock' 'Bock - Eisbock'\n",
      " 'Bock - Maibock' 'Bock - Traditional' 'Bock - Weizenbock' 'Braggot'\n",
      " 'Brett Beer' 'Brown Ale - American' 'Brown Ale - Belgian Dark'\n",
      " 'Brown Ale - English' 'California Common / Steam Beer' 'Chile Beer'\n",
      " 'Cream Ale' 'Dubbel' 'Farmhouse Ale - Bière de Garde'\n",
      " 'Farmhouse Ale - Sahti' 'Farmhouse Ale - Saison' 'Fruit and Field Beer'\n",
      " 'Gruit / Ancient Herbed Ale' 'Happoshu' 'Herb and Spice Beer'\n",
      " 'IPA - American' 'IPA - Belgian' 'IPA - Black / Cascadian Dark Ale'\n",
      " 'IPA - English' 'IPA - Imperial' 'IPA - New England' 'Kvass' 'Kölsch'\n",
      " 'Lager - Adjunct' 'Lager - American Amber / Red' 'Lager - American'\n",
      " 'Lager - European / Dortmunder Export' 'Lager - European Dark'\n",
      " 'Lager - European Pale' 'Lager - European Strong' 'Lager - Helles'\n",
      " 'Lager - India Pale Lager (IPL)' 'Lager - Japanese Rice'\n",
      " 'Lager - Kellerbier / Zwickelbier' 'Lager - Light' 'Lager - Malt Liquor'\n",
      " 'Lager - Munich Dunkel' 'Lager - Märzen / Oktoberfest'\n",
      " 'Lager - Rauchbier' 'Lager - Schwarzbier' 'Lager - Vienna'\n",
      " 'Lambic - Faro' 'Lambic - Fruit' 'Lambic - Gueuze' 'Lambic - Traditional'\n",
      " 'Low Alcohol Beer' 'Mild Ale - English Dark' 'Mild Ale - English Pale'\n",
      " 'Old Ale' 'Pale Ale - American' 'Pale Ale - Belgian' 'Pale Ale - English'\n",
      " 'Pilsner - Bohemian / Czech' 'Pilsner - German' 'Pilsner - Imperial'\n",
      " 'Porter - American' 'Porter - Baltic' 'Porter - English'\n",
      " 'Porter - Imperial' 'Porter - Robust' 'Porter - Smoked' 'Pumpkin Beer'\n",
      " 'Quadrupel (Quad)' 'Red Ale - American Amber / Red' 'Red Ale - Imperial'\n",
      " 'Red Ale - Irish' 'Rye Beer - Roggenbier' 'Rye Beer'\n",
      " 'Scotch Ale / Wee Heavy' 'Scottish Ale' 'Smoked Beer'\n",
      " 'Sour - Berliner Weisse' 'Sour - Flanders Oud Bruin'\n",
      " 'Sour - Flanders Red Ale' 'Sour - Gose' 'Stout - American Imperial'\n",
      " 'Stout - American' 'Stout - English' 'Stout - Foreign / Export'\n",
      " 'Stout - Irish Dry' 'Stout - Oatmeal' 'Stout - Russian Imperial'\n",
      " 'Stout - Sweet / Milk' 'Strong Ale - American'\n",
      " 'Strong Ale - Belgian Dark' 'Strong Ale - Belgian Pale'\n",
      " 'Strong Ale - English' 'Tripel' 'Wheat Beer - American Dark'\n",
      " 'Wheat Beer - American Pale' 'Wheat Beer - Dunkelweizen'\n",
      " 'Wheat Beer - Hefeweizen' 'Wheat Beer - Kristallweizen'\n",
      " 'Wheat Beer - Wheatwine' 'Wheat Beer - Witbier' 'Wild Ale'\n",
      " 'Winter Warmer']\n",
      "------------------------\n"
     ]
    }
   ],
   "source": [
    "# Create a path to the csv and read it into a Pandas DataFrame\n",
    "csv_path = Path(\"Resources/Beer Profile and Ratings Data Set-RUTHGN.csv\")\n",
    "beer_df = pd.read_csv(csv_path)\n",
    "\n",
    "print(f'Total number of rows: {len(beer_df)}')\n",
    "print(\"------------------------\")\n",
    "print(beer_df.dtypes)\n",
    "# print(beer_df.columns)\n",
    "print(\"------------------------\")\n",
    "print(f\"Number of styles: {len(beer_df['Style'].unique())}\")\n",
    "print(\"------------------------\")\n",
    "print(beer_df['Style'].unique())\n",
    "print(\"------------------------\")"
   ]
  }
 ],
 "metadata": {
  "kernelspec": {
   "display_name": "Python 3 (ipykernel)",
   "language": "python",
   "name": "python3"
  },
  "language_info": {
   "codemirror_mode": {
    "name": "ipython",
    "version": 3
   },
   "file_extension": ".py",
   "mimetype": "text/x-python",
   "name": "python",
   "nbconvert_exporter": "python",
   "pygments_lexer": "ipython3",
   "version": "3.10.13"
  }
 },
 "nbformat": 4,
 "nbformat_minor": 5
}
